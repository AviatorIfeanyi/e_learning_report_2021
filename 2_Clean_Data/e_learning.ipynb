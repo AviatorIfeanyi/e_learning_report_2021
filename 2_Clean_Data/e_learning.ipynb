{
 "cells": [
  {
   "cell_type": "code",
   "execution_count": 2,
   "id": "b0f7f799",
   "metadata": {},
   "outputs": [],
   "source": [
    "import pandas as pd\n",
    "\n",
    "import sqldf"
   ]
  },
  {
   "cell_type": "code",
   "execution_count": 3,
   "id": "20839385",
   "metadata": {},
   "outputs": [],
   "source": [
    "## read dataset\n",
    "e_learning_df = pd.read_excel('../1_Data/Test_Learning_Data.xlsx')"
   ]
  },
  {
   "cell_type": "code",
   "execution_count": 4,
   "id": "22c3b24a",
   "metadata": {
    "scrolled": true
   },
   "outputs": [
    {
     "data": {
      "text/html": [
       "<div>\n",
       "<style scoped>\n",
       "    .dataframe tbody tr th:only-of-type {\n",
       "        vertical-align: middle;\n",
       "    }\n",
       "\n",
       "    .dataframe tbody tr th {\n",
       "        vertical-align: top;\n",
       "    }\n",
       "\n",
       "    .dataframe thead th {\n",
       "        text-align: right;\n",
       "    }\n",
       "</style>\n",
       "<table border=\"1\" class=\"dataframe\">\n",
       "  <thead>\n",
       "    <tr style=\"text-align: right;\">\n",
       "      <th></th>\n",
       "      <th>USER ID</th>\n",
       "      <th>USER STATUS</th>\n",
       "      <th>CONTENT TITLE</th>\n",
       "      <th>ASSET TYPE</th>\n",
       "      <th>LANGUAGE CODE</th>\n",
       "      <th>COMPLETION STATUS</th>\n",
       "      <th>START DATE</th>\n",
       "      <th>COMPLETED DATE</th>\n",
       "      <th>BADGE EARNED DATE</th>\n",
       "      <th>DURATION IN SECONDS</th>\n",
       "      <th>TOTAL ACCESSES</th>\n",
       "      <th>HIGH SCORE</th>\n",
       "      <th>ASSESSMENT ATTEMPTS</th>\n",
       "      <th>GENDER</th>\n",
       "      <th>EMPLOYMENT TYPE</th>\n",
       "      <th>STAFF BAND LEVEL</th>\n",
       "      <th>COUNTRY</th>\n",
       "      <th>FUNCTION</th>\n",
       "      <th>DEPARTMENT</th>\n",
       "      <th>LICENSE TYPE</th>\n",
       "    </tr>\n",
       "  </thead>\n",
       "  <tbody>\n",
       "    <tr>\n",
       "      <th>0</th>\n",
       "      <td>USER001</td>\n",
       "      <td>Active</td>\n",
       "      <td>Six Sigma: Team Basics, Roles, and Responsibil...</td>\n",
       "      <td>Course</td>\n",
       "      <td>English (US)</td>\n",
       "      <td>Completed</td>\n",
       "      <td>2021-04-01</td>\n",
       "      <td>2021-04-01</td>\n",
       "      <td>2021-04-01</td>\n",
       "      <td>2836.0</td>\n",
       "      <td>15.0</td>\n",
       "      <td>85.0</td>\n",
       "      <td>3.0</td>\n",
       "      <td>F</td>\n",
       "      <td>Contract</td>\n",
       "      <td>Contract</td>\n",
       "      <td>Nigeria</td>\n",
       "      <td>Information Technology</td>\n",
       "      <td>IT</td>\n",
       "      <td>Advance</td>\n",
       "    </tr>\n",
       "    <tr>\n",
       "      <th>1</th>\n",
       "      <td>USER001</td>\n",
       "      <td>Active</td>\n",
       "      <td>Agile Principles and Methodologies</td>\n",
       "      <td>Course</td>\n",
       "      <td>English (US)</td>\n",
       "      <td>Completed</td>\n",
       "      <td>2021-04-01</td>\n",
       "      <td>2021-04-01</td>\n",
       "      <td>2021-04-01</td>\n",
       "      <td>2628.0</td>\n",
       "      <td>12.0</td>\n",
       "      <td>92.0</td>\n",
       "      <td>2.0</td>\n",
       "      <td>F</td>\n",
       "      <td>Contract</td>\n",
       "      <td>Contract</td>\n",
       "      <td>Nigeria</td>\n",
       "      <td>Information Technology</td>\n",
       "      <td>IT</td>\n",
       "      <td>Advance</td>\n",
       "    </tr>\n",
       "    <tr>\n",
       "      <th>2</th>\n",
       "      <td>USER001</td>\n",
       "      <td>Active</td>\n",
       "      <td>Ethics and Project Management</td>\n",
       "      <td>Course</td>\n",
       "      <td>English (US)</td>\n",
       "      <td>Completed</td>\n",
       "      <td>2021-04-01</td>\n",
       "      <td>2021-04-01</td>\n",
       "      <td>2021-04-01</td>\n",
       "      <td>2597.0</td>\n",
       "      <td>10.0</td>\n",
       "      <td>85.0</td>\n",
       "      <td>1.0</td>\n",
       "      <td>F</td>\n",
       "      <td>Contract</td>\n",
       "      <td>Contract</td>\n",
       "      <td>Nigeria</td>\n",
       "      <td>Information Technology</td>\n",
       "      <td>IT</td>\n",
       "      <td>Advance</td>\n",
       "    </tr>\n",
       "    <tr>\n",
       "      <th>3</th>\n",
       "      <td>USER001</td>\n",
       "      <td>Active</td>\n",
       "      <td>Overcoming Unconscious Bias in the Workplace</td>\n",
       "      <td>Course</td>\n",
       "      <td>English (US)</td>\n",
       "      <td>Completed</td>\n",
       "      <td>2021-04-01</td>\n",
       "      <td>2021-04-01</td>\n",
       "      <td>2021-04-01</td>\n",
       "      <td>1611.0</td>\n",
       "      <td>8.0</td>\n",
       "      <td>87.0</td>\n",
       "      <td>1.0</td>\n",
       "      <td>F</td>\n",
       "      <td>Contract</td>\n",
       "      <td>Contract</td>\n",
       "      <td>Nigeria</td>\n",
       "      <td>Information Technology</td>\n",
       "      <td>IT</td>\n",
       "      <td>Advance</td>\n",
       "    </tr>\n",
       "    <tr>\n",
       "      <th>4</th>\n",
       "      <td>USER001</td>\n",
       "      <td>Active</td>\n",
       "      <td>Forming New Habits</td>\n",
       "      <td>Course</td>\n",
       "      <td>English (US)</td>\n",
       "      <td>Completed</td>\n",
       "      <td>2021-04-01</td>\n",
       "      <td>2021-04-01</td>\n",
       "      <td>2021-04-01</td>\n",
       "      <td>1004.0</td>\n",
       "      <td>7.0</td>\n",
       "      <td>NaN</td>\n",
       "      <td>NaN</td>\n",
       "      <td>F</td>\n",
       "      <td>Contract</td>\n",
       "      <td>Contract</td>\n",
       "      <td>Nigeria</td>\n",
       "      <td>Information Technology</td>\n",
       "      <td>IT</td>\n",
       "      <td>Advance</td>\n",
       "    </tr>\n",
       "  </tbody>\n",
       "</table>\n",
       "</div>"
      ],
      "text/plain": [
       "   USER ID USER STATUS                                      CONTENT TITLE  \\\n",
       "0  USER001      Active  Six Sigma: Team Basics, Roles, and Responsibil...   \n",
       "1  USER001      Active                 Agile Principles and Methodologies   \n",
       "2  USER001      Active                      Ethics and Project Management   \n",
       "3  USER001      Active       Overcoming Unconscious Bias in the Workplace   \n",
       "4  USER001      Active                                 Forming New Habits   \n",
       "\n",
       "  ASSET TYPE LANGUAGE CODE COMPLETION STATUS START DATE COMPLETED DATE  \\\n",
       "0     Course  English (US)         Completed 2021-04-01     2021-04-01   \n",
       "1     Course  English (US)         Completed 2021-04-01     2021-04-01   \n",
       "2     Course  English (US)         Completed 2021-04-01     2021-04-01   \n",
       "3     Course  English (US)         Completed 2021-04-01     2021-04-01   \n",
       "4     Course  English (US)         Completed 2021-04-01     2021-04-01   \n",
       "\n",
       "  BADGE EARNED DATE  DURATION IN SECONDS  TOTAL ACCESSES  HIGH SCORE  \\\n",
       "0        2021-04-01               2836.0            15.0        85.0   \n",
       "1        2021-04-01               2628.0            12.0        92.0   \n",
       "2        2021-04-01               2597.0            10.0        85.0   \n",
       "3        2021-04-01               1611.0             8.0        87.0   \n",
       "4        2021-04-01               1004.0             7.0         NaN   \n",
       "\n",
       "   ASSESSMENT ATTEMPTS GENDER EMPLOYMENT TYPE STAFF BAND LEVEL  COUNTRY  \\\n",
       "0                  3.0      F        Contract         Contract  Nigeria   \n",
       "1                  2.0      F        Contract         Contract  Nigeria   \n",
       "2                  1.0      F        Contract         Contract  Nigeria   \n",
       "3                  1.0      F        Contract         Contract  Nigeria   \n",
       "4                  NaN      F        Contract         Contract  Nigeria   \n",
       "\n",
       "                 FUNCTION DEPARTMENT LICENSE TYPE  \n",
       "0  Information Technology         IT      Advance  \n",
       "1  Information Technology         IT      Advance  \n",
       "2  Information Technology         IT      Advance  \n",
       "3  Information Technology         IT      Advance  \n",
       "4  Information Technology         IT      Advance  "
      ]
     },
     "execution_count": 4,
     "metadata": {},
     "output_type": "execute_result"
    }
   ],
   "source": [
    "e_learning_df.head()"
   ]
  },
  {
   "cell_type": "code",
   "execution_count": 5,
   "id": "40977ac1",
   "metadata": {},
   "outputs": [
    {
     "name": "stdout",
     "output_type": "stream",
     "text": [
      "<class 'pandas.core.frame.DataFrame'>\n",
      "RangeIndex: 10484 entries, 0 to 10483\n",
      "Data columns (total 20 columns):\n",
      " #   Column               Non-Null Count  Dtype         \n",
      "---  ------               --------------  -----         \n",
      " 0   USER ID              10484 non-null  object        \n",
      " 1   USER STATUS          10484 non-null  object        \n",
      " 2   CONTENT TITLE        10484 non-null  object        \n",
      " 3   ASSET TYPE           10484 non-null  object        \n",
      " 4   LANGUAGE CODE        10484 non-null  object        \n",
      " 5   COMPLETION STATUS    10484 non-null  object        \n",
      " 6   START DATE           10484 non-null  datetime64[ns]\n",
      " 7   COMPLETED DATE       6987 non-null   datetime64[ns]\n",
      " 8   BADGE EARNED DATE    5462 non-null   datetime64[ns]\n",
      " 9   DURATION IN SECONDS  10479 non-null  float64       \n",
      " 10  TOTAL ACCESSES       10428 non-null  float64       \n",
      " 11  HIGH SCORE           5529 non-null   float64       \n",
      " 12  ASSESSMENT ATTEMPTS  5139 non-null   float64       \n",
      " 13  GENDER               10254 non-null  object        \n",
      " 14  EMPLOYMENT TYPE      10484 non-null  object        \n",
      " 15  STAFF BAND LEVEL     10179 non-null  object        \n",
      " 16  COUNTRY              10484 non-null  object        \n",
      " 17  FUNCTION             10282 non-null  object        \n",
      " 18  DEPARTMENT           10391 non-null  object        \n",
      " 19  LICENSE TYPE         10484 non-null  object        \n",
      "dtypes: datetime64[ns](3), float64(4), object(13)\n",
      "memory usage: 1.6+ MB\n"
     ]
    }
   ],
   "source": [
    "e_learning_df.info()"
   ]
  },
  {
   "cell_type": "code",
   "execution_count": 6,
   "id": "d4da8d05",
   "metadata": {},
   "outputs": [
    {
     "data": {
      "text/plain": [
       "English (US)    8602\n",
       "French          1867\n",
       "en-GB             15\n",
       "Name: LANGUAGE CODE, dtype: int64"
      ]
     },
     "execution_count": 6,
     "metadata": {},
     "output_type": "execute_result"
    }
   ],
   "source": [
    "e_learning_df['LANGUAGE CODE'].value_counts()"
   ]
  },
  {
   "cell_type": "code",
   "execution_count": null,
   "id": "a99477a5",
   "metadata": {},
   "outputs": [],
   "source": []
  },
  {
   "cell_type": "code",
   "execution_count": 7,
   "id": "e484eb03",
   "metadata": {},
   "outputs": [
    {
     "data": {
      "text/plain": [
       "USER ID                   0\n",
       "USER STATUS               0\n",
       "CONTENT TITLE             0\n",
       "ASSET TYPE                0\n",
       "LANGUAGE CODE             0\n",
       "COMPLETION STATUS         0\n",
       "START DATE                0\n",
       "COMPLETED DATE         3497\n",
       "BADGE EARNED DATE      5022\n",
       "DURATION IN SECONDS       5\n",
       "TOTAL ACCESSES           56\n",
       "HIGH SCORE             4955\n",
       "ASSESSMENT ATTEMPTS    5345\n",
       "GENDER                  230\n",
       "EMPLOYMENT TYPE           0\n",
       "STAFF BAND LEVEL        305\n",
       "COUNTRY                   0\n",
       "FUNCTION                202\n",
       "DEPARTMENT               93\n",
       "LICENSE TYPE              0\n",
       "dtype: int64"
      ]
     },
     "execution_count": 7,
     "metadata": {},
     "output_type": "execute_result"
    }
   ],
   "source": [
    "e_learning_df.isnull().sum()"
   ]
  },
  {
   "cell_type": "code",
   "execution_count": 8,
   "id": "489fb049",
   "metadata": {},
   "outputs": [
    {
     "data": {
      "text/plain": [
       "93"
      ]
     },
     "execution_count": 8,
     "metadata": {},
     "output_type": "execute_result"
    }
   ],
   "source": [
    "e_learning_df['DEPARTMENT'].isnull().sum()"
   ]
  },
  {
   "cell_type": "code",
   "execution_count": 9,
   "id": "2891cc56",
   "metadata": {},
   "outputs": [
    {
     "data": {
      "text/html": [
       "<div>\n",
       "<style scoped>\n",
       "    .dataframe tbody tr th:only-of-type {\n",
       "        vertical-align: middle;\n",
       "    }\n",
       "\n",
       "    .dataframe tbody tr th {\n",
       "        vertical-align: top;\n",
       "    }\n",
       "\n",
       "    .dataframe thead th {\n",
       "        text-align: right;\n",
       "    }\n",
       "</style>\n",
       "<table border=\"1\" class=\"dataframe\">\n",
       "  <thead>\n",
       "    <tr style=\"text-align: right;\">\n",
       "      <th></th>\n",
       "      <th>USER ID</th>\n",
       "      <th>USER STATUS</th>\n",
       "      <th>CONTENT TITLE</th>\n",
       "      <th>ASSET TYPE</th>\n",
       "      <th>LANGUAGE CODE</th>\n",
       "      <th>COMPLETION STATUS</th>\n",
       "      <th>START DATE</th>\n",
       "      <th>COMPLETED DATE</th>\n",
       "      <th>BADGE EARNED DATE</th>\n",
       "      <th>DURATION IN SECONDS</th>\n",
       "      <th>TOTAL ACCESSES</th>\n",
       "      <th>HIGH SCORE</th>\n",
       "      <th>ASSESSMENT ATTEMPTS</th>\n",
       "      <th>GENDER</th>\n",
       "      <th>EMPLOYMENT TYPE</th>\n",
       "      <th>STAFF BAND LEVEL</th>\n",
       "      <th>COUNTRY</th>\n",
       "      <th>FUNCTION</th>\n",
       "      <th>DEPARTMENT</th>\n",
       "      <th>LICENSE TYPE</th>\n",
       "    </tr>\n",
       "  </thead>\n",
       "  <tbody>\n",
       "    <tr>\n",
       "      <th>54</th>\n",
       "      <td>USER001011</td>\n",
       "      <td>Active</td>\n",
       "      <td>Embracing an Agile Culture for Business Growth</td>\n",
       "      <td>Course</td>\n",
       "      <td>English (US)</td>\n",
       "      <td>Started</td>\n",
       "      <td>2021-07-29</td>\n",
       "      <td>NaT</td>\n",
       "      <td>NaT</td>\n",
       "      <td>1530.0</td>\n",
       "      <td>7.0</td>\n",
       "      <td>NaN</td>\n",
       "      <td>NaN</td>\n",
       "      <td>NaN</td>\n",
       "      <td>Permanent</td>\n",
       "      <td>NaN</td>\n",
       "      <td>Kenya</td>\n",
       "      <td>Sales and Distribution</td>\n",
       "      <td>Sales</td>\n",
       "      <td>Advance</td>\n",
       "    </tr>\n",
       "    <tr>\n",
       "      <th>106</th>\n",
       "      <td>USER001023</td>\n",
       "      <td>Active</td>\n",
       "      <td>Embracing an Agile Culture for Business Growth</td>\n",
       "      <td>Course</td>\n",
       "      <td>English (US)</td>\n",
       "      <td>Started</td>\n",
       "      <td>2021-08-30</td>\n",
       "      <td>NaT</td>\n",
       "      <td>NaT</td>\n",
       "      <td>1530.0</td>\n",
       "      <td>1.0</td>\n",
       "      <td>NaN</td>\n",
       "      <td>NaN</td>\n",
       "      <td>NaN</td>\n",
       "      <td>Permanent</td>\n",
       "      <td>NaN</td>\n",
       "      <td>Nigeria</td>\n",
       "      <td>Human Resources</td>\n",
       "      <td>NaN</td>\n",
       "      <td>Advance</td>\n",
       "    </tr>\n",
       "    <tr>\n",
       "      <th>107</th>\n",
       "      <td>USER001023</td>\n",
       "      <td>Active</td>\n",
       "      <td>Expert Insights on Organizational Culture</td>\n",
       "      <td>Course</td>\n",
       "      <td>English (US)</td>\n",
       "      <td>Completed</td>\n",
       "      <td>2021-08-27</td>\n",
       "      <td>2021-08-30</td>\n",
       "      <td>2021-08-30</td>\n",
       "      <td>3891.0</td>\n",
       "      <td>28.0</td>\n",
       "      <td>NaN</td>\n",
       "      <td>NaN</td>\n",
       "      <td>NaN</td>\n",
       "      <td>Permanent</td>\n",
       "      <td>NaN</td>\n",
       "      <td>Nigeria</td>\n",
       "      <td>Human Resources</td>\n",
       "      <td>NaN</td>\n",
       "      <td>Advance</td>\n",
       "    </tr>\n",
       "    <tr>\n",
       "      <th>108</th>\n",
       "      <td>USER001023</td>\n",
       "      <td>Active</td>\n",
       "      <td>Anti-Money Laundering: An Overview</td>\n",
       "      <td>Linked Content</td>\n",
       "      <td>English (US)</td>\n",
       "      <td>Started</td>\n",
       "      <td>2021-08-27</td>\n",
       "      <td>NaT</td>\n",
       "      <td>NaT</td>\n",
       "      <td>1800.0</td>\n",
       "      <td>1.0</td>\n",
       "      <td>NaN</td>\n",
       "      <td>NaN</td>\n",
       "      <td>NaN</td>\n",
       "      <td>Permanent</td>\n",
       "      <td>NaN</td>\n",
       "      <td>Nigeria</td>\n",
       "      <td>Human Resources</td>\n",
       "      <td>NaN</td>\n",
       "      <td>Advance</td>\n",
       "    </tr>\n",
       "    <tr>\n",
       "      <th>368</th>\n",
       "      <td>USER001076</td>\n",
       "      <td>Active</td>\n",
       "      <td>Enabling Business Process Improvement</td>\n",
       "      <td>Course</td>\n",
       "      <td>English (US)</td>\n",
       "      <td>Started</td>\n",
       "      <td>2021-09-04</td>\n",
       "      <td>NaT</td>\n",
       "      <td>NaT</td>\n",
       "      <td>1147.0</td>\n",
       "      <td>1.0</td>\n",
       "      <td>NaN</td>\n",
       "      <td>NaN</td>\n",
       "      <td>NaN</td>\n",
       "      <td>Permanent</td>\n",
       "      <td>NaN</td>\n",
       "      <td>Kenya</td>\n",
       "      <td>Sales and Distribution</td>\n",
       "      <td>HBB</td>\n",
       "      <td>Advance</td>\n",
       "    </tr>\n",
       "  </tbody>\n",
       "</table>\n",
       "</div>"
      ],
      "text/plain": [
       "        USER ID USER STATUS                                   CONTENT TITLE  \\\n",
       "54   USER001011      Active  Embracing an Agile Culture for Business Growth   \n",
       "106  USER001023      Active  Embracing an Agile Culture for Business Growth   \n",
       "107  USER001023      Active       Expert Insights on Organizational Culture   \n",
       "108  USER001023      Active              Anti-Money Laundering: An Overview   \n",
       "368  USER001076      Active           Enabling Business Process Improvement   \n",
       "\n",
       "         ASSET TYPE LANGUAGE CODE COMPLETION STATUS START DATE COMPLETED DATE  \\\n",
       "54           Course  English (US)           Started 2021-07-29            NaT   \n",
       "106          Course  English (US)           Started 2021-08-30            NaT   \n",
       "107          Course  English (US)         Completed 2021-08-27     2021-08-30   \n",
       "108  Linked Content  English (US)           Started 2021-08-27            NaT   \n",
       "368          Course  English (US)           Started 2021-09-04            NaT   \n",
       "\n",
       "    BADGE EARNED DATE  DURATION IN SECONDS  TOTAL ACCESSES  HIGH SCORE  \\\n",
       "54                NaT               1530.0             7.0         NaN   \n",
       "106               NaT               1530.0             1.0         NaN   \n",
       "107        2021-08-30               3891.0            28.0         NaN   \n",
       "108               NaT               1800.0             1.0         NaN   \n",
       "368               NaT               1147.0             1.0         NaN   \n",
       "\n",
       "     ASSESSMENT ATTEMPTS GENDER EMPLOYMENT TYPE STAFF BAND LEVEL  COUNTRY  \\\n",
       "54                   NaN    NaN       Permanent              NaN    Kenya   \n",
       "106                  NaN    NaN       Permanent              NaN  Nigeria   \n",
       "107                  NaN    NaN       Permanent              NaN  Nigeria   \n",
       "108                  NaN    NaN       Permanent              NaN  Nigeria   \n",
       "368                  NaN    NaN       Permanent              NaN    Kenya   \n",
       "\n",
       "                   FUNCTION DEPARTMENT LICENSE TYPE  \n",
       "54   Sales and Distribution      Sales      Advance  \n",
       "106         Human Resources        NaN      Advance  \n",
       "107         Human Resources        NaN      Advance  \n",
       "108         Human Resources        NaN      Advance  \n",
       "368  Sales and Distribution        HBB      Advance  "
      ]
     },
     "execution_count": 9,
     "metadata": {},
     "output_type": "execute_result"
    }
   ],
   "source": [
    "e_learning_df[e_learning_df['GENDER'].isnull()].head()"
   ]
  },
  {
   "cell_type": "code",
   "execution_count": 10,
   "id": "6b570c1e",
   "metadata": {},
   "outputs": [
    {
     "data": {
      "text/plain": [
       "registered_students    1877\n",
       "dtype: int64"
      ]
     },
     "execution_count": 10,
     "metadata": {},
     "output_type": "execute_result"
    }
   ],
   "source": [
    "distinct_user = '''select distinct \"USER ID\" as registered_students from e_learning_df'''\n",
    "distinct_user_df = sqldf.run(distinct_user)\n",
    "\n",
    "distinct_user_df.count()"
   ]
  },
  {
   "cell_type": "code",
   "execution_count": 11,
   "id": "a36f5b7c",
   "metadata": {},
   "outputs": [
    {
     "data": {
      "text/plain": [
       "(1877, 20)"
      ]
     },
     "execution_count": 11,
     "metadata": {},
     "output_type": "execute_result"
    }
   ],
   "source": [
    "e_learning_df[~e_learning_df['USER ID'].duplicated()].shape"
   ]
  },
  {
   "cell_type": "code",
   "execution_count": 12,
   "id": "3557477d",
   "metadata": {},
   "outputs": [],
   "source": [
    "employment_type_query = '''\n",
    "    select distinct \"USER ID\" as users, \"EMPLOYMENT TYPE\" as emp_type from e_learning_df\n",
    "'''"
   ]
  },
  {
   "cell_type": "code",
   "execution_count": 13,
   "id": "d9627c43",
   "metadata": {},
   "outputs": [
    {
     "data": {
      "text/plain": [
       "Permanent    1751\n",
       "Contract      126\n",
       "Name: emp_type, dtype: int64"
      ]
     },
     "execution_count": 13,
     "metadata": {},
     "output_type": "execute_result"
    }
   ],
   "source": [
    "sqldf.run(employment_type_query)['emp_type'].value_counts()"
   ]
  },
  {
   "cell_type": "code",
   "execution_count": null,
   "id": "93ad07a9",
   "metadata": {},
   "outputs": [],
   "source": []
  },
  {
   "cell_type": "code",
   "execution_count": null,
   "id": "7e664aa6",
   "metadata": {},
   "outputs": [],
   "source": []
  },
  {
   "cell_type": "code",
   "execution_count": null,
   "id": "1ef15720",
   "metadata": {},
   "outputs": [],
   "source": []
  },
  {
   "cell_type": "markdown",
   "id": "0d41c7dc",
   "metadata": {},
   "source": [
    "## Data Cleaning Observations"
   ]
  },
  {
   "cell_type": "code",
   "execution_count": null,
   "id": "fa925657",
   "metadata": {},
   "outputs": [],
   "source": []
  },
  {
   "cell_type": "markdown",
   "id": "b1018e79",
   "metadata": {},
   "source": [
    "### Column names are in uppercase. Convert to lowercase"
   ]
  },
  {
   "cell_type": "markdown",
   "id": "2ab2700c",
   "metadata": {},
   "source": [
    "### start date, completed date, badge earned date,\t total accesses, assessment attempts, license type, asset type will be dropped. They are irrelevant to our analysis"
   ]
  },
  {
   "cell_type": "markdown",
   "id": "656dd460",
   "metadata": {},
   "source": [
    "### high score and duration has some missing values. Fill in missings values with zero (0)"
   ]
  },
  {
   "cell_type": "markdown",
   "id": "9d1a5179",
   "metadata": {},
   "source": [
    "### standardize language code values"
   ]
  },
  {
   "cell_type": "markdown",
   "id": "640e1790",
   "metadata": {},
   "source": [
    "### gender column with no values should be replaced with not_specified"
   ]
  },
  {
   "cell_type": "markdown",
   "id": "d3060cf2",
   "metadata": {},
   "source": [
    "### function, department, staff band level with  missing values should be replaced with not_specified"
   ]
  },
  {
   "cell_type": "code",
   "execution_count": null,
   "id": "c409ad32",
   "metadata": {},
   "outputs": [],
   "source": []
  },
  {
   "cell_type": "code",
   "execution_count": null,
   "id": "5f05cb3c",
   "metadata": {},
   "outputs": [],
   "source": []
  },
  {
   "cell_type": "markdown",
   "id": "9acacff4",
   "metadata": {},
   "source": [
    "## Cleaning Dataset"
   ]
  },
  {
   "cell_type": "code",
   "execution_count": 14,
   "id": "e6d7cc47",
   "metadata": {},
   "outputs": [],
   "source": [
    "e_learning_df_clean = e_learning_df.copy()"
   ]
  },
  {
   "cell_type": "code",
   "execution_count": null,
   "id": "58638421",
   "metadata": {},
   "outputs": [],
   "source": []
  },
  {
   "cell_type": "markdown",
   "id": "3e047207",
   "metadata": {},
   "source": [
    "### Column names are in uppercase. Convert to lowercase"
   ]
  },
  {
   "cell_type": "markdown",
   "id": "157f1542",
   "metadata": {},
   "source": [
    "## Define"
   ]
  },
  {
   "cell_type": "markdown",
   "id": "8ca7e5a0",
   "metadata": {},
   "source": [
    "### Transform column names to lowercase"
   ]
  },
  {
   "cell_type": "code",
   "execution_count": null,
   "id": "a24a8041",
   "metadata": {},
   "outputs": [],
   "source": []
  },
  {
   "cell_type": "markdown",
   "id": "dff9a129",
   "metadata": {},
   "source": [
    "## code"
   ]
  },
  {
   "cell_type": "code",
   "execution_count": 15,
   "id": "544b0425",
   "metadata": {},
   "outputs": [
    {
     "data": {
      "text/plain": [
       "Index(['USER ID', 'USER STATUS', 'CONTENT TITLE', 'ASSET TYPE',\n",
       "       'LANGUAGE CODE', 'COMPLETION STATUS', 'START DATE', 'COMPLETED DATE',\n",
       "       'BADGE EARNED DATE', 'DURATION IN SECONDS', 'TOTAL ACCESSES',\n",
       "       'HIGH SCORE', 'ASSESSMENT ATTEMPTS', 'GENDER', 'EMPLOYMENT TYPE',\n",
       "       'STAFF BAND LEVEL', 'COUNTRY', 'FUNCTION', 'DEPARTMENT',\n",
       "       'LICENSE TYPE'],\n",
       "      dtype='object')"
      ]
     },
     "execution_count": 15,
     "metadata": {},
     "output_type": "execute_result"
    }
   ],
   "source": [
    "e_learning_df_clean.columns"
   ]
  },
  {
   "cell_type": "code",
   "execution_count": 16,
   "id": "9168bf91",
   "metadata": {},
   "outputs": [],
   "source": [
    "e_learning_df_clean.columns = e_learning_df_clean.columns.str.lower()"
   ]
  },
  {
   "cell_type": "code",
   "execution_count": null,
   "id": "0d80fe40",
   "metadata": {},
   "outputs": [],
   "source": []
  },
  {
   "cell_type": "markdown",
   "id": "aa694950",
   "metadata": {},
   "source": [
    "### Test"
   ]
  },
  {
   "cell_type": "code",
   "execution_count": 17,
   "id": "66015055",
   "metadata": {},
   "outputs": [
    {
     "data": {
      "text/plain": [
       "Index(['user id', 'user status', 'content title', 'asset type',\n",
       "       'language code', 'completion status', 'start date', 'completed date',\n",
       "       'badge earned date', 'duration in seconds', 'total accesses',\n",
       "       'high score', 'assessment attempts', 'gender', 'employment type',\n",
       "       'staff band level', 'country', 'function', 'department',\n",
       "       'license type'],\n",
       "      dtype='object')"
      ]
     },
     "execution_count": 17,
     "metadata": {},
     "output_type": "execute_result"
    }
   ],
   "source": [
    "e_learning_df_clean.columns"
   ]
  },
  {
   "cell_type": "code",
   "execution_count": null,
   "id": "3e364abb",
   "metadata": {},
   "outputs": [],
   "source": []
  },
  {
   "cell_type": "markdown",
   "id": "bf000c89",
   "metadata": {},
   "source": [
    "### Space in column name should be removed"
   ]
  },
  {
   "cell_type": "markdown",
   "id": "50c9432c",
   "metadata": {},
   "source": [
    "### Define"
   ]
  },
  {
   "cell_type": "markdown",
   "id": "7015dbc6",
   "metadata": {},
   "source": [
    "### Replace space in column names with underscore"
   ]
  },
  {
   "cell_type": "code",
   "execution_count": null,
   "id": "a147cc5d",
   "metadata": {},
   "outputs": [],
   "source": []
  },
  {
   "cell_type": "markdown",
   "id": "e2a2046f",
   "metadata": {},
   "source": [
    "### Code"
   ]
  },
  {
   "cell_type": "code",
   "execution_count": 18,
   "id": "76bf7a65",
   "metadata": {},
   "outputs": [],
   "source": [
    "e_learning_df_clean.columns = e_learning_df_clean.columns.str.replace(' ', '_')"
   ]
  },
  {
   "cell_type": "code",
   "execution_count": null,
   "id": "91eed741",
   "metadata": {},
   "outputs": [],
   "source": []
  },
  {
   "cell_type": "markdown",
   "id": "218afb54",
   "metadata": {},
   "source": [
    "### Test"
   ]
  },
  {
   "cell_type": "code",
   "execution_count": 19,
   "id": "fdc1fd1b",
   "metadata": {},
   "outputs": [
    {
     "data": {
      "text/plain": [
       "Index(['user_id', 'user_status', 'content_title', 'asset_type',\n",
       "       'language_code', 'completion_status', 'start_date', 'completed_date',\n",
       "       'badge_earned_date', 'duration_in_seconds', 'total_accesses',\n",
       "       'high_score', 'assessment_attempts', 'gender', 'employment_type',\n",
       "       'staff_band_level', 'country', 'function', 'department',\n",
       "       'license_type'],\n",
       "      dtype='object')"
      ]
     },
     "execution_count": 19,
     "metadata": {},
     "output_type": "execute_result"
    }
   ],
   "source": [
    "e_learning_df_clean.columns"
   ]
  },
  {
   "cell_type": "code",
   "execution_count": null,
   "id": "88a924b5",
   "metadata": {},
   "outputs": [],
   "source": []
  },
  {
   "cell_type": "markdown",
   "id": "22f10792",
   "metadata": {},
   "source": [
    "### start date, completed date, badge earned date,\t total accesses, assessment attempts, license type, asset type will be dropped. They are not relevant to our analysis"
   ]
  },
  {
   "cell_type": "code",
   "execution_count": null,
   "id": "e349cfb0",
   "metadata": {},
   "outputs": [],
   "source": []
  },
  {
   "cell_type": "markdown",
   "id": "7961959b",
   "metadata": {},
   "source": [
    "### Define"
   ]
  },
  {
   "cell_type": "markdown",
   "id": "540fbbcb",
   "metadata": {},
   "source": [
    "### Drop columns not used for analysis using pandas drop() method"
   ]
  },
  {
   "cell_type": "code",
   "execution_count": null,
   "id": "8d33563f",
   "metadata": {},
   "outputs": [],
   "source": []
  },
  {
   "cell_type": "markdown",
   "id": "1f0ff39a",
   "metadata": {},
   "source": [
    "### Code"
   ]
  },
  {
   "cell_type": "code",
   "execution_count": 20,
   "id": "534c06af",
   "metadata": {},
   "outputs": [
    {
     "data": {
      "text/plain": [
       "20"
      ]
     },
     "execution_count": 20,
     "metadata": {},
     "output_type": "execute_result"
    }
   ],
   "source": [
    "len(e_learning_df_clean.columns)"
   ]
  },
  {
   "cell_type": "code",
   "execution_count": 21,
   "id": "5277db5b",
   "metadata": {},
   "outputs": [],
   "source": [
    "e_learning_df_clean.drop(['asset_type', 'start_date', 'completed_date',\n",
    "       'badge_earned_date', 'total_accesses','duration_in_seconds','license_type','asset_type','assessment_attempts'], axis=1, inplace=True)"
   ]
  },
  {
   "cell_type": "code",
   "execution_count": null,
   "id": "61295d0c",
   "metadata": {},
   "outputs": [],
   "source": []
  },
  {
   "cell_type": "markdown",
   "id": "da84b932",
   "metadata": {},
   "source": [
    "### Test"
   ]
  },
  {
   "cell_type": "code",
   "execution_count": 22,
   "id": "4d7e7500",
   "metadata": {},
   "outputs": [
    {
     "data": {
      "text/plain": [
       "12"
      ]
     },
     "execution_count": 22,
     "metadata": {},
     "output_type": "execute_result"
    }
   ],
   "source": [
    "len(e_learning_df_clean.columns)"
   ]
  },
  {
   "cell_type": "code",
   "execution_count": 23,
   "id": "48965efa",
   "metadata": {},
   "outputs": [
    {
     "data": {
      "text/plain": [
       "Index(['user_id', 'user_status', 'content_title', 'language_code',\n",
       "       'completion_status', 'high_score', 'gender', 'employment_type',\n",
       "       'staff_band_level', 'country', 'function', 'department'],\n",
       "      dtype='object')"
      ]
     },
     "execution_count": 23,
     "metadata": {},
     "output_type": "execute_result"
    }
   ],
   "source": [
    "e_learning_df_clean.columns"
   ]
  },
  {
   "cell_type": "code",
   "execution_count": null,
   "id": "bc429e56",
   "metadata": {},
   "outputs": [],
   "source": []
  },
  {
   "cell_type": "markdown",
   "id": "9566a365",
   "metadata": {},
   "source": [
    "### high score has some missing values. Fill in missings values with zero (0)"
   ]
  },
  {
   "cell_type": "markdown",
   "id": "f37f7e22",
   "metadata": {},
   "source": [
    "### Define"
   ]
  },
  {
   "cell_type": "markdown",
   "id": "727484e8",
   "metadata": {},
   "source": [
    "### fill in missing values using the fillna() method"
   ]
  },
  {
   "cell_type": "code",
   "execution_count": null,
   "id": "ac90a1c8",
   "metadata": {},
   "outputs": [],
   "source": []
  },
  {
   "cell_type": "markdown",
   "id": "c503e3ca",
   "metadata": {},
   "source": [
    "### Code"
   ]
  },
  {
   "cell_type": "code",
   "execution_count": 24,
   "id": "f88473cc",
   "metadata": {},
   "outputs": [
    {
     "data": {
      "text/plain": [
       "4955"
      ]
     },
     "execution_count": 24,
     "metadata": {},
     "output_type": "execute_result"
    }
   ],
   "source": [
    "e_learning_df_clean['high_score'].isnull().sum()"
   ]
  },
  {
   "cell_type": "code",
   "execution_count": 25,
   "id": "ff80b03b",
   "metadata": {},
   "outputs": [],
   "source": [
    "e_learning_df_clean['high_score'].fillna(0, inplace=True)"
   ]
  },
  {
   "cell_type": "markdown",
   "id": "ec22d1a6",
   "metadata": {},
   "source": [
    "## Test"
   ]
  },
  {
   "cell_type": "code",
   "execution_count": 26,
   "id": "4391f304",
   "metadata": {},
   "outputs": [
    {
     "data": {
      "text/plain": [
       "0"
      ]
     },
     "execution_count": 26,
     "metadata": {},
     "output_type": "execute_result"
    }
   ],
   "source": [
    "e_learning_df_clean['high_score'].isnull().sum()"
   ]
  },
  {
   "cell_type": "code",
   "execution_count": null,
   "id": "c8827a74",
   "metadata": {},
   "outputs": [],
   "source": []
  },
  {
   "cell_type": "markdown",
   "id": "7032e5c4",
   "metadata": {},
   "source": [
    "### standardize language code values"
   ]
  },
  {
   "cell_type": "markdown",
   "id": "5478f893",
   "metadata": {},
   "source": [
    "### Define"
   ]
  },
  {
   "cell_type": "markdown",
   "id": "0384cd3c",
   "metadata": {},
   "source": [
    "### language code should be consistent in its values"
   ]
  },
  {
   "cell_type": "code",
   "execution_count": null,
   "id": "96454509",
   "metadata": {},
   "outputs": [],
   "source": []
  },
  {
   "cell_type": "markdown",
   "id": "0cc52fad",
   "metadata": {},
   "source": [
    "### Code"
   ]
  },
  {
   "cell_type": "code",
   "execution_count": 27,
   "id": "0ec4b46e",
   "metadata": {},
   "outputs": [
    {
     "data": {
      "text/plain": [
       "English (US)    8602\n",
       "French          1867\n",
       "en-GB             15\n",
       "Name: language_code, dtype: int64"
      ]
     },
     "execution_count": 27,
     "metadata": {},
     "output_type": "execute_result"
    }
   ],
   "source": [
    "e_learning_df_clean.language_code.value_counts()"
   ]
  },
  {
   "cell_type": "code",
   "execution_count": 28,
   "id": "574bb91e",
   "metadata": {},
   "outputs": [],
   "source": [
    "e_learning_df_clean.language_code = e_learning_df_clean.language_code.map({\n",
    "                                                                    'English (US)':'English',\n",
    "                                                                    'en-GB':'English',\n",
    "                                                                    'French':'French'\n",
    "                                                                        })"
   ]
  },
  {
   "cell_type": "markdown",
   "id": "84eb2cff",
   "metadata": {},
   "source": [
    "### Test"
   ]
  },
  {
   "cell_type": "code",
   "execution_count": 29,
   "id": "432261d7",
   "metadata": {},
   "outputs": [
    {
     "data": {
      "text/plain": [
       "English    8617\n",
       "French     1867\n",
       "Name: language_code, dtype: int64"
      ]
     },
     "execution_count": 29,
     "metadata": {},
     "output_type": "execute_result"
    }
   ],
   "source": [
    "e_learning_df_clean.language_code.value_counts()"
   ]
  },
  {
   "cell_type": "code",
   "execution_count": null,
   "id": "6f74ac77",
   "metadata": {},
   "outputs": [],
   "source": []
  },
  {
   "cell_type": "code",
   "execution_count": 30,
   "id": "d9f9c13e",
   "metadata": {},
   "outputs": [],
   "source": [
    "e_learning_df_clean.country = e_learning_df_clean.country.replace('Kenya HQ', 'Kenya')"
   ]
  },
  {
   "cell_type": "code",
   "execution_count": 31,
   "id": "7f198f4e",
   "metadata": {},
   "outputs": [
    {
     "data": {
      "text/plain": [
       "Nigeria       2643\n",
       "Kenya         1190\n",
       "Uganda        1176\n",
       "Congo B        956\n",
       "Gabon          807\n",
       "Zambia         739\n",
       "DRC            644\n",
       "Tanzania       572\n",
       "India          398\n",
       "Malawi         349\n",
       "Niger          269\n",
       "Rwanda         258\n",
       "Madagascar     190\n",
       "Seychelles     164\n",
       "Chad           125\n",
       "UK               4\n",
       "Name: country, dtype: int64"
      ]
     },
     "execution_count": 31,
     "metadata": {},
     "output_type": "execute_result"
    }
   ],
   "source": [
    "e_learning_df_clean.country.value_counts()"
   ]
  },
  {
   "cell_type": "markdown",
   "id": "90412e64",
   "metadata": {},
   "source": [
    "### gender column with no values should be replaced with not_specified"
   ]
  },
  {
   "cell_type": "markdown",
   "id": "7f00be5a",
   "metadata": {},
   "source": [
    "### Define"
   ]
  },
  {
   "cell_type": "markdown",
   "id": "dc9be833",
   "metadata": {},
   "source": [
    "### Use fillna() method to replace missing values"
   ]
  },
  {
   "cell_type": "code",
   "execution_count": null,
   "id": "0dfbc58b",
   "metadata": {},
   "outputs": [],
   "source": []
  },
  {
   "cell_type": "markdown",
   "id": "61136212",
   "metadata": {},
   "source": [
    "### Code"
   ]
  },
  {
   "cell_type": "code",
   "execution_count": 32,
   "id": "5e730c86",
   "metadata": {},
   "outputs": [],
   "source": [
    "e_learning_df_clean.gender.fillna('not_specified', inplace=True)"
   ]
  },
  {
   "cell_type": "code",
   "execution_count": null,
   "id": "76616937",
   "metadata": {},
   "outputs": [],
   "source": []
  },
  {
   "cell_type": "markdown",
   "id": "a4a8cf92",
   "metadata": {},
   "source": [
    "### Test"
   ]
  },
  {
   "cell_type": "code",
   "execution_count": 33,
   "id": "477acc56",
   "metadata": {},
   "outputs": [
    {
     "data": {
      "text/plain": [
       "M                6815\n",
       "F                3439\n",
       "not_specified     230\n",
       "Name: gender, dtype: int64"
      ]
     },
     "execution_count": 33,
     "metadata": {},
     "output_type": "execute_result"
    }
   ],
   "source": [
    "e_learning_df_clean.gender.value_counts()"
   ]
  },
  {
   "cell_type": "code",
   "execution_count": null,
   "id": "b0799d69",
   "metadata": {},
   "outputs": [],
   "source": []
  },
  {
   "cell_type": "markdown",
   "id": "5bafd388",
   "metadata": {},
   "source": [
    "### function, department, staff band level with  missing values should be replaced with not_specified"
   ]
  },
  {
   "cell_type": "code",
   "execution_count": null,
   "id": "fbb5ba85",
   "metadata": {},
   "outputs": [],
   "source": []
  },
  {
   "cell_type": "markdown",
   "id": "628dee5e",
   "metadata": {},
   "source": [
    "### Define"
   ]
  },
  {
   "cell_type": "markdown",
   "id": "02cb51c8",
   "metadata": {},
   "source": [
    "### Use fillna() method to replace missing values"
   ]
  },
  {
   "cell_type": "code",
   "execution_count": 34,
   "id": "459c825f",
   "metadata": {},
   "outputs": [
    {
     "data": {
      "text/plain": [
       "department           93\n",
       "function            202\n",
       "staff_band_level    305\n",
       "dtype: int64"
      ]
     },
     "execution_count": 34,
     "metadata": {},
     "output_type": "execute_result"
    }
   ],
   "source": [
    "e_learning_df_clean[['department', 'function', 'staff_band_level']].isnull().sum()"
   ]
  },
  {
   "cell_type": "markdown",
   "id": "645b61e2",
   "metadata": {},
   "source": [
    "### Code"
   ]
  },
  {
   "cell_type": "code",
   "execution_count": 35,
   "id": "d4aa5b45",
   "metadata": {},
   "outputs": [],
   "source": [
    "e_learning_df_clean[['department', 'function', 'staff_band_level']] = e_learning_df_clean[\n",
    "    ['department', 'function', 'staff_band_level']].fillna('not_specified')"
   ]
  },
  {
   "cell_type": "code",
   "execution_count": null,
   "id": "5850e5d0",
   "metadata": {},
   "outputs": [],
   "source": []
  },
  {
   "cell_type": "markdown",
   "id": "0ad79104",
   "metadata": {},
   "source": [
    "### Test"
   ]
  },
  {
   "cell_type": "code",
   "execution_count": 36,
   "id": "436d28f7",
   "metadata": {},
   "outputs": [
    {
     "data": {
      "text/plain": [
       "department          0\n",
       "function            0\n",
       "staff_band_level    0\n",
       "dtype: int64"
      ]
     },
     "execution_count": 36,
     "metadata": {},
     "output_type": "execute_result"
    }
   ],
   "source": [
    "e_learning_df_clean[['department', 'function', 'staff_band_level']].isnull().sum()"
   ]
  },
  {
   "cell_type": "code",
   "execution_count": null,
   "id": "be681702",
   "metadata": {},
   "outputs": [],
   "source": []
  },
  {
   "cell_type": "code",
   "execution_count": null,
   "id": "57297b19",
   "metadata": {},
   "outputs": [],
   "source": []
  },
  {
   "cell_type": "code",
   "execution_count": null,
   "id": "103503c3",
   "metadata": {},
   "outputs": [],
   "source": []
  },
  {
   "cell_type": "code",
   "execution_count": 37,
   "id": "ad6bb243",
   "metadata": {},
   "outputs": [],
   "source": [
    "e_learning_df_clean.to_csv('../3_Analysis/e_learning_data.csv', index=False)"
   ]
  },
  {
   "cell_type": "code",
   "execution_count": null,
   "id": "fa2a4abe",
   "metadata": {},
   "outputs": [],
   "source": []
  }
 ],
 "metadata": {
  "kernelspec": {
   "display_name": "Python 3 (ipykernel)",
   "language": "python",
   "name": "python3"
  },
  "language_info": {
   "codemirror_mode": {
    "name": "ipython",
    "version": 3
   },
   "file_extension": ".py",
   "mimetype": "text/x-python",
   "name": "python",
   "nbconvert_exporter": "python",
   "pygments_lexer": "ipython3",
   "version": "3.9.9"
  }
 },
 "nbformat": 4,
 "nbformat_minor": 5
}
